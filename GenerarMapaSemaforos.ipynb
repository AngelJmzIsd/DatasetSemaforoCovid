{
  "nbformat": 4,
  "nbformat_minor": 0,
  "metadata": {
    "colab": {
      "name": "GenerarMapaSemaforos.ipynb",
      "provenance": [],
      "mount_file_id": "19Qtwfq1xvoEABorksp0xSCJ0VCV4aPBr",
      "authorship_tag": "ABX9TyOLpFuQT0CWRWhhVTjHl4ss",
      "include_colab_link": true
    },
    "kernelspec": {
      "name": "python3",
      "display_name": "Python 3"
    },
    "language_info": {
      "name": "python"
    }
  },
  "cells": [
    {
      "cell_type": "markdown",
      "metadata": {
        "id": "view-in-github",
        "colab_type": "text"
      },
      "source": [
        "<a href=\"https://colab.research.google.com/github/AngelJmzIsd/DatasetSemaforoCovid/blob/main/GenerarMapaSemaforos.ipynb\" target=\"_parent\"><img src=\"https://colab.research.google.com/assets/colab-badge.svg\" alt=\"Open In Colab\"/></a>"
      ]
    },
    {
      "cell_type": "markdown",
      "source": [
        "# Librerias necesarias"
      ],
      "metadata": {
        "id": "uUSqHZQRnBo5"
      }
    },
    {
      "cell_type": "code",
      "execution_count": null,
      "metadata": {
        "id": "WBraauynm3E2"
      },
      "outputs": [],
      "source": [
        "from math import *\n",
        "from PIL import Image\n",
        "import numpy as np\n",
        "import csv\n",
        "from datetime import datetime\n",
        "\n"
      ]
    },
    {
      "cell_type": "markdown",
      "source": [
        "# Funciones previas: color y similitud"
      ],
      "metadata": {
        "id": "KMQ4i4rJnK_Q"
      }
    },
    {
      "cell_type": "code",
      "source": [
        "\n",
        "#Regresa el color RGB de un pixel de una imagen en concreto\n",
        "def colorPixel(nombreArchivo,x,y):\n",
        "  imagen=nombreArchivo\n",
        "  im = Image.open(imagen)\n",
        "  pixels = im.load()\n",
        "  pixel=pixels[x,y]\n",
        "  return list(pixel)\n",
        "\n",
        "#El siguiente convierte una imagen a un objeto im\n",
        "def toPixels(nombreArchivo):\n",
        "  imagen=nombreArchivo\n",
        "  im = Image.open(imagen)\n",
        "  pixels = im.load()\n",
        "  return pixels\n"
      ],
      "metadata": {
        "id": "CSxmasuWyuCk"
      },
      "execution_count": null,
      "outputs": []
    },
    {
      "cell_type": "markdown",
      "source": [
        "COMPARAR SIMILARIDAD DE DOS COLORES\n"
      ],
      "metadata": {
        "id": "qseIETcKqpRv"
      }
    },
    {
      "cell_type": "code",
      "source": [
        "\n",
        "\n",
        "#Recibe los RGB de cada numero\n",
        "def similaridad(color1, color2):\n",
        "  c1=color1\n",
        "  c2=color2\n",
        "\n",
        "  r1=c1[0]\n",
        "  g1=c1[1]\n",
        "  b1=c1[2]\n",
        "\n",
        "  r2=c2[0]\n",
        "  g2=c2[1]\n",
        "  b2=c2[2]\n",
        "\n",
        "  a1=abs(r2-r1)\n",
        "  a2=abs(g2-g1)\n",
        "  a3=abs(b2-b1)\n",
        "\n",
        "  d=sqrt((a1)^2+(a2)^2+(a3)^2)\n",
        "  p=d/sqrt((255)^2+(255)^2+(255)^2)\n",
        "\n",
        "  #Regresa el porcentaje de \"Similaridad\"\n",
        "  return (1-p)*100"
      ],
      "metadata": {
        "id": "kFZs97rSnMtw"
      },
      "execution_count": null,
      "outputs": []
    },
    {
      "cell_type": "markdown",
      "source": [
        "# Parámetros iniciales"
      ],
      "metadata": {
        "id": "7WaYXX2Js02J"
      }
    },
    {
      "cell_type": "code",
      "source": [
        "#colores base INICIALES - SIRVEN COMO GUIA\n",
        "\n",
        "#VERDE\n",
        "c1=[35,203,63]\n",
        "#AMARILLO\n",
        "c2=[249,241,20]\n",
        "#NARANJA\n",
        "c3=[243,128,13]\n",
        "#ROJO\n",
        "c4=[190,0,15]\n",
        "\n",
        "#MINIMO\n",
        "\n",
        "\n",
        "#LEER ARCHIVO CSV DE ESTADOS CODIGO Y NOMBRE\n",
        "#coordenadas de los estados, codigo y nombre\n",
        "datos=\"/content/drive/MyDrive/4TO SEMESTRE/DATATHON/IMAGENES DE MAPAS/MAPAS DE PRUEBA - MAPAS COVID - copia/coordenadas.csv\"\n",
        "\n",
        "file = open(datos)\n",
        "type(file)\n",
        "csvreader = csv.reader(file)\n",
        "\n",
        "#4: Extraer el header\n",
        "header = []\n",
        "header = next(csvreader)\n",
        "\n",
        "#5: extraer los registros\n",
        "rows = []\n",
        "for row in csvreader:\n",
        "        rows.append(row)\n",
        "\n",
        "#6: Cerrar el archivo\n",
        "file.close()\n",
        "\n",
        "clave=[]\n",
        "estado=[]\n",
        "px=[]\n",
        "py=[]\n",
        "\n",
        "rows.reverse()\n",
        "for registro in rows:\n",
        "  clave.append(int(registro[0]))\n",
        "  estado.append(registro[1])\n",
        "  px.append(int(registro[2]))\n",
        "  py.append(int(registro[3]))"
      ],
      "metadata": {
        "id": "lJ5a1Pcus6mI"
      },
      "execution_count": null,
      "outputs": []
    },
    {
      "cell_type": "markdown",
      "source": [
        "# OBTENER LISTA DE LOS NOMBRES DE TODOS LOS ARCHIVOS DE IMAGEN"
      ],
      "metadata": {
        "id": "YniGT9cytDwg"
      }
    },
    {
      "cell_type": "code",
      "source": [
        "\n",
        "# 1: import OS module\n",
        "import os\n",
        " \n",
        "# 2: Get the list of all files and directories\n",
        "\n",
        "ruta2020=\"/content/drive/MyDrive/4TO SEMESTRE/DATATHON/IMAGENES DE MAPAS/MAPAS DE PRUEBA - MAPAS COVID - copia/2020\"\n",
        "ruta2021=\"/content/drive/MyDrive/4TO SEMESTRE/DATATHON/IMAGENES DE MAPAS/MAPAS DE PRUEBA - MAPAS COVID - copia/2021\"\n",
        "ruta2022=\"/content/drive/MyDrive/4TO SEMESTRE/DATATHON/IMAGENES DE MAPAS/MAPAS DE PRUEBA - MAPAS COVID - copia/2022\"\n",
        "\n",
        "mapas2020=[]\n",
        "mapas2021=[]\n",
        "mapas2022=[]\n",
        "\n",
        "path = ruta2020\n",
        "mapas2020 = os.listdir(path)\n",
        "\n",
        "path = ruta2021\n",
        "mapas2021 = os.listdir(path)\n",
        "\n",
        "path = ruta2022\n",
        "mapas2022 = os.listdir(path)\n",
        "\n",
        "# 3: prints all files\n"
      ],
      "metadata": {
        "id": "hUsyxNsttk3Y"
      },
      "execution_count": null,
      "outputs": []
    },
    {
      "cell_type": "markdown",
      "source": [
        "PRIMERO CON UNA SOLA IMAGEN - CREAR EL RANGO DE DATOS"
      ],
      "metadata": {
        "id": "d1adOoClLbXu"
      }
    },
    {
      "cell_type": "code",
      "source": [
        "#Esto se supone que se hará con cada uno de los mapas\n",
        "\n",
        "imagen=\"/content/drive/MyDrive/4TO SEMESTRE/DATATHON/IMAGENES DE MAPAS/MAPAS DE PRUEBA - MAPAS COVID - copia/2020/15_06_2020-21_06_2020.png\"\n",
        "fechas=imagen[-25:-4]\n",
        "fecha1= fechas[0:10]\n",
        "fecha2=fechas[11:]\n",
        "\n",
        "\n",
        "date1=fecha1[0:2]+\"/\"+fecha1[3:5]+\"/\"+fecha1[6:11]\n",
        "date2=fecha2[0:2]+\"/\"+fecha2[3:5]+\"/\"+fecha2[6:11]\n",
        "\n",
        "nivelSem=[]\n",
        "pixels=toPixels(imagen)\n",
        "\n",
        "\n",
        "for i in range (0,32):\n",
        "  nivel=0\n",
        "  pmin=70\n",
        "  punto=pixels[px[i],py[i]]\n",
        "\n",
        "  match1=similaridad(c1, punto)\n",
        "  if match1>=pmin: nivel=1\n",
        "\n",
        "  match2=similaridad(c2, punto)\n",
        "  if match2>=pmin: nivel=2\n",
        "\n",
        "  match3=similaridad(c3, punto)\n",
        "  if match3>=pmin: nivel=3\n",
        "\n",
        "  match4=similaridad(c4, punto)\n",
        "  if match4>=pmin: nivel=4\n",
        "\n",
        "  nivelSem.append(nivel)\n",
        "  #linea=str(clave[i])+\",\"+estado[i]+\",\"+str(nivel)+\",\"+date1\n",
        "  #print(linea)\n"
      ],
      "metadata": {
        "id": "9Uzb2BCELfE2"
      },
      "execution_count": null,
      "outputs": []
    },
    {
      "cell_type": "markdown",
      "source": [
        "ESCRIBIR LOS DATOS EN LA TABLA DE INTERVALOS CSV"
      ],
      "metadata": {
        "id": "Cr8f72kVRbB9"
      }
    },
    {
      "cell_type": "code",
      "source": [
        "# 1: open the file in the write mode\n",
        "archivo=\"/content/drive/MyDrive/4TO SEMESTRE/DATATHON/IMAGENES DE MAPAS/MAPAS DE PRUEBA - MAPAS COVID - copia/ResultadosMapas2.csv\"\n",
        "ruta=\"/content/drive/MyDrive/4TO SEMESTRE/DATATHON/IMAGENES DE MAPAS/ResultadosMapas\"\n",
        "\n",
        "\n",
        "# datetime object containing current date and time\n",
        "now = datetime.now()\n",
        "# dd/mm/YY H:M:S\n",
        "fechaHora = now.strftime(\"%d_%m_%Y-%H:%M:%S\")\n",
        "#print(\"date and time =\", dt_string)\t\n",
        "\n",
        "\n",
        "nombreArchivo=\"IntervalosEstados-\"+fechaHora+\".csv\"\n",
        "archivo=ruta+\"/\"+nombreArchivo\n",
        "f = open(archivo, 'w')\n",
        "\n",
        "# 2: create the csv writer\n",
        "writer = csv.writer(f)\n",
        "\n",
        "# 3: write a row to the csv file\n",
        "  #writer.writerow(row)\n",
        "header2=[\"FechaInicio\",\"FechaFin\",\"ClaveEntidad\",\"Nivel\"]\n",
        "writer.writerow(header2)\n",
        "\n",
        "for i in range(0,32):\n",
        "  fila=[]\n",
        "  fila=[date1,date2,clave[i],estado[i],nivelSem[i]]\n",
        "  writer.writerow(fila)\n",
        "\n",
        "# 4: close the file\n",
        "f.close()"
      ],
      "metadata": {
        "id": "mJzFaJRCRewc"
      },
      "execution_count": null,
      "outputs": []
    },
    {
      "cell_type": "markdown",
      "source": [
        "# **GENERAR CADA UNA DE LAS FECHAS CON CADA ESTADO Y SU NIVEL DE RIESGO**"
      ],
      "metadata": {
        "id": "Y8_QRgFyVdJc"
      }
    },
    {
      "cell_type": "markdown",
      "source": [
        "para eso se necesitan los datos de cada uno de los mapas, y se comienzan a agregar los datos correspondientes a las fechas de inicio y de fin\n",
        "\n",
        "O sea, para cada día del año, colocar el nivel de cada uno de los 32 estados"
      ],
      "metadata": {
        "id": "i7XmzPDwVk7T"
      }
    },
    {
      "cell_type": "markdown",
      "source": [
        ""
      ],
      "metadata": {
        "id": "kwGh-JDOV_Uy"
      }
    },
    {
      "cell_type": "code",
      "source": [
        "#Recorrer todas las fechas desde el 2020 hasta el día de hoy"
      ],
      "metadata": {
        "id": "o3a-ZETpVjLb"
      },
      "execution_count": null,
      "outputs": []
    }
  ]
}