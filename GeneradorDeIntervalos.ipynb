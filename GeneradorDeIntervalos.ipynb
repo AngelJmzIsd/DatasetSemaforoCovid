{
  "nbformat": 4,
  "nbformat_minor": 0,
  "metadata": {
    "colab": {
      "name": "GeneradorDeIntervalos.ipynb",
      "provenance": [],
      "mount_file_id": "1lQELwLZnk4fuDIoKDm03nDxwjPcpOQs7",
      "authorship_tag": "ABX9TyOuSMdKZSs0Z34aYgeNz5e2",
      "include_colab_link": true
    },
    "kernelspec": {
      "name": "python3",
      "display_name": "Python 3"
    },
    "language_info": {
      "name": "python"
    }
  },
  "cells": [
    {
      "cell_type": "markdown",
      "metadata": {
        "id": "view-in-github",
        "colab_type": "text"
      },
      "source": [
        "<a href=\"https://colab.research.google.com/github/AngelJmzIsd/DatasetSemaforoCovid/blob/main/GeneradorDeIntervalos.ipynb\" target=\"_parent\"><img src=\"https://colab.research.google.com/assets/colab-badge.svg\" alt=\"Open In Colab\"/></a>"
      ]
    },
    {
      "cell_type": "markdown",
      "source": [
        "# Librerias necesarias"
      ],
      "metadata": {
        "id": "uUSqHZQRnBo5"
      }
    },
    {
      "cell_type": "code",
      "execution_count": null,
      "metadata": {
        "id": "WBraauynm3E2"
      },
      "outputs": [],
      "source": [
        "from math import *\n",
        "from PIL import Image\n",
        "import csv\n",
        "from datetime import datetime\n",
        "\n"
      ]
    },
    {
      "cell_type": "markdown",
      "source": [
        "# Funciones previas: color y similitud"
      ],
      "metadata": {
        "id": "KMQ4i4rJnK_Q"
      }
    },
    {
      "cell_type": "code",
      "source": [
        "\n",
        "#Regresa el color RGB de un pixel de una imagen en concreto\n",
        "def colorPixel(nombreArchivo,x,y):\n",
        "  imagen=nombreArchivo\n",
        "  im = Image.open(imagen)\n",
        "  pixels = im.load()\n",
        "  pixel=pixels[x,y]\n",
        "  return list(pixel)\n",
        "\n",
        "#El siguiente convierte una imagen a un objeto im\n",
        "def toPixels(nombreArchivo):\n",
        "  imagen=nombreArchivo\n",
        "  im = Image.open(imagen)\n",
        "  pixels = im.load()\n",
        "  return pixels\n"
      ],
      "metadata": {
        "id": "CSxmasuWyuCk"
      },
      "execution_count": null,
      "outputs": []
    },
    {
      "cell_type": "markdown",
      "source": [
        "COMPARAR SIMILARIDAD DE DOS COLORES\n"
      ],
      "metadata": {
        "id": "qseIETcKqpRv"
      }
    },
    {
      "cell_type": "code",
      "source": [
        "\n",
        "\n",
        "#Recibe los RGB de cada numero\n",
        "def similaridad(color1, color2):\n",
        "  c1=color1\n",
        "  c2=color2\n",
        "\n",
        "  r1=c1[0]\n",
        "  g1=c1[1]\n",
        "  b1=c1[2]\n",
        "\n",
        "  r2=c2[0]\n",
        "  g2=c2[1]\n",
        "  b2=c2[2]\n",
        "\n",
        "  a1=abs(r2-r1)\n",
        "  a2=abs(g2-g1)\n",
        "  a3=abs(b2-b1)\n",
        "\n",
        "  d=sqrt((a1)^2+(a2)^2+(a3)^2)\n",
        "  p=d/sqrt((255)^2+(255)^2+(255)^2)\n",
        "\n",
        "  #Regresa el porcentaje de \"Similaridad\"\n",
        "  return (1-p)*100"
      ],
      "metadata": {
        "id": "kFZs97rSnMtw"
      },
      "execution_count": null,
      "outputs": []
    },
    {
      "cell_type": "code",
      "source": [
        "#OTRA ALTERNATIVA A LAS COMPARACIONES ANTERIROES\n",
        "def similaridad2(c1, c2):\n",
        "  \n",
        "    r1=c1[0]\n",
        "    g1=c1[1]\n",
        "    b1=c1[2]\n",
        "\n",
        "    r2=c2[0]\n",
        "    g2=c2[1]\n",
        "    b2=c2[2]\n",
        "\n",
        "    red_mean = int(round((r1 + r2) / 2))\n",
        "    r = int(r1 - r2)\n",
        "    g = int(g1 - g2)\n",
        "    b = int(b1 - b2)\n",
        "    return (-1)*(  (((512 + red_mean) * r * r) >> 8) + 4 * g * g + \\\n",
        "           (((767 - red_mean) * b * b) >> 8)\n",
        "    )\n",
        "    # See the very good color distance paper:\n",
        "    # https://www.compuphase.com/cmetric.htm "
      ],
      "metadata": {
        "id": "cq78d16VxsP5"
      },
      "execution_count": null,
      "outputs": []
    },
    {
      "cell_type": "code",
      "source": [
        "!pip install colormath"
      ],
      "metadata": {
        "colab": {
          "base_uri": "https://localhost:8080/"
        },
        "id": "g7YXXE7o__TF",
        "outputId": "02265f02-f080-4e86-a4e1-6298f89a709c"
      },
      "execution_count": null,
      "outputs": [
        {
          "output_type": "stream",
          "name": "stdout",
          "text": [
            "Requirement already satisfied: colormath in /usr/local/lib/python3.7/dist-packages (3.0.0)\n",
            "Requirement already satisfied: networkx>=2.0 in /usr/local/lib/python3.7/dist-packages (from colormath) (2.6.3)\n",
            "Requirement already satisfied: numpy in /usr/local/lib/python3.7/dist-packages (from colormath) (1.21.6)\n"
          ]
        }
      ]
    },
    {
      "cell_type": "code",
      "source": [
        "#OTRA ALTERNATIVA QUE ESPERO QUE POR FIN FUNCIONE\n",
        "\n",
        "from colormath.color_objects import sRGBColor, LabColor\n",
        "from colormath.color_conversions import convert_color\n",
        "from colormath.color_diff import delta_e_cie2000\n",
        "\n",
        "\n",
        "\n",
        "def similaridad3(c1,c2):\n",
        "\n",
        "  color1_rgb = sRGBColor(c1[0],c1[1],c1[2])\n",
        "  color2_rgb = sRGBColor(c2[0],c2[1],c2[2])\n",
        "\n",
        "  # Convert from RGB to Lab Color Space\n",
        "  color1_lab = convert_color(color1_rgb, LabColor)\n",
        "  color2_lab = convert_color(color2_rgb, LabColor)\n",
        "\n",
        "  #Finding the difference\n",
        "  diff = delta_e_cie2000(color1_lab, color2_lab)\n",
        "  return (-1)*diff"
      ],
      "metadata": {
        "id": "KPJVq37u_qQl"
      },
      "execution_count": null,
      "outputs": []
    },
    {
      "cell_type": "code",
      "source": [
        "#PRUEBA DE LA FUNCION\n",
        "\n",
        "#Verde con amarillo\n",
        "x=similaridad2([27,206,71],[252,132,11])\n",
        "print(x)\n",
        "\n",
        "#VERDE con rojo\n",
        "x=similaridad2([27,206,71],[184,18,22])\n",
        "print(x)\n",
        "\n",
        "#Verde con verde diferten\n",
        "x=similaridad2([27,206,71],[20,200,70])\n",
        "print(x)\n",
        "\n",
        "#Rojo con Naranja\n",
        "x=similaridad3([27,206,71],[255,231,12])\n",
        "print(x)\n",
        "\n",
        "\n",
        "#Amarillo con naranja\n",
        "x=similaridad3([255,255,0],[255,128,0])\n",
        "print(x)\n",
        "\n",
        "\n",
        "#Amarillo con Amarillo CDMX\n",
        "x=similaridad3([255,255,0],[220, 236, 79])\n",
        "print(x)\n",
        "\n",
        "#Naranja con Amarillo  CDMX\n",
        "x=similaridad3([255,128,0],[220, 236, 79])\n",
        "print(x)\n"
      ],
      "metadata": {
        "colab": {
          "base_uri": "https://localhost:8080/"
        },
        "id": "tZ7BQCoAxv3I",
        "outputId": "1e9cfa85-d76d-4f43-b4d4-af0129a41896"
      },
      "execution_count": null,
      "outputs": [
        {
          "output_type": "stream",
          "name": "stdout",
          "text": [
            "-159656\n",
            "-207079\n",
            "-248\n",
            "-49.48099979120622\n",
            "-89.29183855602314\n",
            "-11.022440770588705\n",
            "-98.1065228538838\n"
          ]
        }
      ]
    },
    {
      "cell_type": "markdown",
      "source": [
        "# Parámetros iniciales"
      ],
      "metadata": {
        "id": "7WaYXX2Js02J"
      }
    },
    {
      "cell_type": "code",
      "source": [
        "#colores base INICIALES - SIRVEN COMO GUIA\n",
        "\n",
        "\n",
        "#VERDE\n",
        "c1=[35,203,63]\n",
        "#AMARILLO\n",
        "c2=[249,241,20]\n",
        "#NARANJA\n",
        "c3=[243,128,13]\n",
        "#ROJO\n",
        "c4=[190,0,15]\n",
        "\n",
        "\n",
        "\n",
        "\n",
        "'''\n",
        "#VERDE\n",
        "c1=[0,0,255]\n",
        "#AMARILLO\n",
        "c2=[255,255,0]\n",
        "#NARANJA\n",
        "c3=[255,128,0]\n",
        "#ROJO\n",
        "c4=[255,0,0]\n",
        "'''\n",
        "\n",
        "\n",
        "#LEER ARCHIVO CSV DE ESTADOS CODIGO Y NOMBRE\n",
        "#coordenadas de los estados, codigo y nombre\n",
        "datos=\"/content/drive/MyDrive/4TO SEMESTRE/DATATHON/IMAGENES DE MAPAS/MAPAS DE PRUEBA - MAPAS COVID - copia/coordenadas.csv\"\n",
        "\n",
        "file = open(datos, encoding='latin-1')\n",
        "type(file)\n",
        "csvreader = csv.reader(file)\n",
        "\n",
        "#4: Extraer el header\n",
        "header = []\n",
        "header = next(csvreader)\n",
        "\n",
        "#5: extraer los registros\n",
        "rows = []\n",
        "for row in csvreader:\n",
        "        rows.append(row)\n",
        "\n",
        "#6: Cerrar el archivo\n",
        "file.close()\n",
        "\n",
        "clave=[]\n",
        "estado=[]\n",
        "px=[]\n",
        "py=[]\n",
        "\n",
        "\n",
        "for registro in rows:\n",
        "  clave.append(int(registro[0]))\n",
        "  estado.append(registro[1])\n",
        "  px.append(int(registro[2]))\n",
        "  py.append(int(registro[3]))\n"
      ],
      "metadata": {
        "id": "lJ5a1Pcus6mI"
      },
      "execution_count": null,
      "outputs": []
    },
    {
      "cell_type": "markdown",
      "source": [
        "# OBTENER LISTA DE LOS NOMBRES DE TODOS LOS ARCHIVOS DE IMAGEN"
      ],
      "metadata": {
        "id": "YniGT9cytDwg"
      }
    },
    {
      "cell_type": "code",
      "source": [
        "\n",
        "# 1: import OS module\n",
        "import os\n",
        " \n",
        "# 2: Get the list of all files and directories\n",
        "\n",
        "ruta2020=\"/content/drive/MyDrive/4TO SEMESTRE/DATATHON/IMAGENES DE MAPAS/MAPAS DE PRUEBA - MAPAS COVID - copia/2020\"\n",
        "ruta2021=\"/content/drive/MyDrive/4TO SEMESTRE/DATATHON/IMAGENES DE MAPAS/MAPAS DE PRUEBA - MAPAS COVID - copia/2021\"\n",
        "ruta2022=\"/content/drive/MyDrive/4TO SEMESTRE/DATATHON/IMAGENES DE MAPAS/MAPAS DE PRUEBA - MAPAS COVID - copia/2022\"\n",
        "\n",
        "mapas2020=[]\n",
        "mapas2021=[]\n",
        "mapas2022=[]\n",
        "\n",
        "path = ruta2020\n",
        "mapas2020 = os.listdir(path)\n",
        "\n",
        "path = ruta2021\n",
        "mapas2021 = os.listdir(path)\n",
        "\n",
        "path = ruta2022\n",
        "mapas2022 = os.listdir(path)\n",
        "\n",
        "# 3: prints all files\n"
      ],
      "metadata": {
        "id": "hUsyxNsttk3Y"
      },
      "execution_count": null,
      "outputs": []
    },
    {
      "cell_type": "markdown",
      "source": [
        "CREAR EL CSV DONDE SE VAN A GUARDAR LOS RESULTADOS"
      ],
      "metadata": {
        "id": "mxMJt2mRo_9J"
      }
    },
    {
      "cell_type": "code",
      "source": [
        "# 1: open the file in the write mode\n",
        "ruta=\"/content/drive/MyDrive/4TO SEMESTRE/DATATHON/IMAGENES DE MAPAS/ResultadosMapas\"\n",
        "\n",
        "# datetime object containing current date and time\n",
        "now = datetime.now()\n",
        "# dd/mm/YY H:M:S\n",
        "fechaHora = now.strftime(\"%d_%m_%Y-%H:%M:%S\")\n",
        "#print(\"date and time =\", dt_string)\t\n",
        "\n",
        "\n",
        "nombreArchivo=\"IntervalosEstados-\"+fechaHora+\".csv\"\n",
        "archivo=ruta+\"/\"+nombreArchivo\n",
        "f = open(archivo, 'w')\n",
        "\n",
        "# 2: create the csv writer\n",
        "writer = csv.writer(f)\n",
        "\n",
        "# 3: write a row to the csv file\n",
        "  #writer.writerow(row)\n",
        "header2=[\"FechaInicio\",\"FechaFin\",\"ClaveEntidad\",\"Estado\",\"Nivel\"]\n",
        "writer.writerow(header2)"
      ],
      "metadata": {
        "colab": {
          "base_uri": "https://localhost:8080/"
        },
        "id": "a3Xm9xgxo_YK",
        "outputId": "3f39c745-7cff-4981-dc1a-ec92922c9f20"
      },
      "execution_count": null,
      "outputs": [
        {
          "output_type": "execute_result",
          "data": {
            "text/plain": [
              "48"
            ]
          },
          "metadata": {},
          "execution_count": 240
        }
      ]
    },
    {
      "cell_type": "markdown",
      "source": [
        "PRIMERO CON UNA SOLA IMAGEN - CREAR EL RANGO DE DATOS"
      ],
      "metadata": {
        "id": "d1adOoClLbXu"
      }
    },
    {
      "cell_type": "code",
      "source": [
        "#Esto se supone que se hará con cada uno de los mapas\n",
        "rutas=[ruta2020,ruta2021,ruta2022]\n",
        "mapas=[mapas2020,mapas2021,mapas2022]\n",
        "\n",
        "\n",
        "\n",
        "minimo=999999\n",
        "\n",
        "for i in range (0,2):\n",
        "  for mapa in mapas[i]:\n",
        "\n",
        "    print(\"Archivo actual: \"+mapa)\n",
        "\n",
        "\n",
        "    imagen=rutas[i]+\"/\"+mapa\n",
        "    fechas=imagen[-25:-4]\n",
        "    fecha1= fechas[0:10]\n",
        "    fecha2=fechas[11:]\n",
        "    date1=fecha1[0:2]+\"/\"+fecha1[3:5]+\"/\"+fecha1[6:11]\n",
        "    date2=fecha2[0:2]+\"/\"+fecha2[3:5]+\"/\"+fecha2[6:11]\n",
        "\n",
        "    nivelSem=[]\n",
        "    pixels=toPixels(imagen)\n",
        "\n",
        "\n",
        "    for j in range (0,32):\n",
        "      nivel=0\n",
        "      maximo=-999999\n",
        "      punto=pixels[px[j],py[j]]\n",
        "\n",
        "      match1=similaridad3(c1, punto)\n",
        "      match2=similaridad3(c2, punto)\n",
        "      match3=similaridad3(c3, punto)\n",
        "      match4=similaridad3(c4, punto)\n",
        "\n",
        "      porcentajes=[match1,match2,match3,match4]\n",
        "      \n",
        "      for I in range(0,4):\n",
        "        if(porcentajes[I]>maximo):\n",
        "          maximo=porcentajes[I]\n",
        "          nivel=I+1\n",
        "      nivelSem.append(nivel)\n",
        "\n",
        "      if (maximo<minimo):minimo=maximo\n",
        "      if(maximo==minimo):\n",
        "        print(\"Porcentaje minimo: \",maximo)\n",
        "        print(\"ClaveEstado: \",clave[j])\n",
        "        print(\"Estado: \",estado[j])\n",
        "        print(\"RGB: \",punto)\n",
        "        print(\"Nivel Asignado: \",nivel)\n",
        "        print()\n",
        "\n",
        "    for k in range(0,32):\n",
        "      fila=[]\n",
        "      fila=[date1,date2,clave[k],estado[k],nivelSem[k]]\n",
        "      writer.writerow(fila)\n",
        "\n",
        "\n",
        "      \n",
        "\n"
      ],
      "metadata": {
        "id": "9Uzb2BCELfE2",
        "colab": {
          "base_uri": "https://localhost:8080/"
        },
        "outputId": "f83a0cf1-107d-4ab8-ea13-dbd2acd3a7fe"
      },
      "execution_count": null,
      "outputs": [
        {
          "output_type": "stream",
          "name": "stdout",
          "text": [
            "Archivo actual: 07_12_2020-20_12_2020.png\n",
            "Porcentaje minimo:  -2.8323583723352064\n",
            "ClaveEstado:  1\n",
            "Estado:  Aguascalientes\n",
            "RGB:  (255, 132, 15)\n",
            "Nivel Asignado:  3\n",
            "\n",
            "Porcentaje minimo:  -5.7444869735492405\n",
            "ClaveEstado:  2\n",
            "Estado:  Baja California\n",
            "RGB:  (210, 15, 16)\n",
            "Nivel Asignado:  4\n",
            "\n",
            "Porcentaje minimo:  -9.69922725606156\n",
            "ClaveEstado:  9\n",
            "Estado:  Colima\n",
            "RGB:  (255, 228, 17)\n",
            "Nivel Asignado:  2\n",
            "\n",
            "Porcentaje minimo:  -9.713463391066673\n",
            "ClaveEstado:  29\n",
            "Estado:  Tlaxcala\n",
            "RGB:  (255, 228, 24)\n",
            "Nivel Asignado:  2\n",
            "\n",
            "Archivo actual: 06_07_2020-12_07_2020.png\n",
            "Archivo actual: 03_08_2020-16_08_2020.png\n",
            "Archivo actual: 15_06_2020-21_06_2020.png\n",
            "Archivo actual: 22_06_2020-28_06_2020.png\n",
            "Archivo actual: 29_06_2020-05_07_2020.png\n",
            "Porcentaje minimo:  -14.108513799235073\n",
            "ClaveEstado:  7\n",
            "Estado:  CDMX\n",
            "RGB:  (250, 139, 80)\n",
            "Nivel Asignado:  3\n",
            "\n",
            "Archivo actual: 13_07_2020-19_07_2020.png\n",
            "Archivo actual: 20_07_2020-26_07_2020.png\n",
            "Archivo actual: 27_07_2020-02_08_2020.png\n",
            "Archivo actual: 17_08_2020-30_08_2020.png\n",
            "Archivo actual: 31_08_2020-13_09_2020.png\n",
            "Archivo actual: 14_09_2020-27_09_2020.png\n",
            "Archivo actual: 28_09_2020-11_10_2020.png\n",
            "Archivo actual: 12_10_2020-25_10_2020.png\n",
            "Archivo actual: 26_10_2020-08_11_2020.png\n",
            "Archivo actual: 09_11_2020-22_11_2020.png\n",
            "Archivo actual: 23_11_2020-06_12_2020.png\n",
            "Archivo actual: 29_03_2021-11_04_2021.png\n",
            "Archivo actual: 12_04_2021-25_04_2021.png\n",
            "Archivo actual: 04_01_2021-17_01_2021.png\n",
            "Archivo actual: 21_12_2020-03_01_2021.png\n",
            "Archivo actual: 18_01_2021-31_01_2021.png\n",
            "Archivo actual: 01_02_2021-14_02_2021.png\n",
            "Archivo actual: 15_02_2021-28_02_2021.png\n",
            "Archivo actual: 01_03_2021-14_03_2021.png\n",
            "Archivo actual: 15_03_2021-28_03_2021.png\n",
            "Archivo actual: 01_11_2021-14_11_2021.png\n",
            "Archivo actual: 18_10_2021-31_10_2021.png\n",
            "Archivo actual: 04_10_2021-17_10_2021.png\n",
            "Archivo actual: 20_09_2021-03_10_2021.png\n",
            "Archivo actual: 06_09_2021-19_09_2021.png\n",
            "Porcentaje minimo:  -16.209597803786497\n",
            "ClaveEstado:  7\n",
            "Estado:  CDMX\n",
            "RGB:  (247, 212, 41)\n",
            "Nivel Asignado:  2\n",
            "\n",
            "Archivo actual: 23_08_2021-05_09_2021.png\n",
            "Archivo actual: 09_08_2021-22_08_2021.png\n",
            "Archivo actual: 05_07_2021-18_07_2021.png\n",
            "Archivo actual: 26_07_2021-08_08_2021.png\n",
            "Archivo actual: 21_06_2021-04_07_2021.png\n",
            "Archivo actual: 07_06_2021-20_06_2021.png\n",
            "Archivo actual: 24_05_2021-06_06_2021.png\n",
            "Archivo actual: 10_05_2021-23_05_2021.png\n",
            "Archivo actual: 26_04_2021-09_05_2021.png\n",
            "Porcentaje minimo:  -32.68806786872762\n",
            "ClaveEstado:  7\n",
            "Estado:  CDMX\n",
            "RGB:  (211, 149, 30)\n",
            "Nivel Asignado:  3\n",
            "\n"
          ]
        }
      ]
    },
    {
      "cell_type": "code",
      "source": [
        "# 4: close the file\n",
        "f.close()"
      ],
      "metadata": {
        "id": "lusm07ELFwg7"
      },
      "execution_count": null,
      "outputs": []
    }
  ]
}